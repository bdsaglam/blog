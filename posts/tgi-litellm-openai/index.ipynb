{
 "cells": [
  {
   "cell_type": "markdown",
   "metadata": {},
   "source": [
    "---\n",
    "badges: true\n",
    "categories:\n",
    "- llm\n",
    "- huggingface\n",
    "- openai\n",
    "- litellm\n",
    "date: '2024-01-08'\n",
    "title: Serving open source LLM as OpenAI API\n",
    "toc: false\n",
    "---"
   ]
  },
  {
   "cell_type": "markdown",
   "metadata": {},
   "source": [
    "In this tutorial, we'll see how to serve an open source language model  with OpenAI compatible API using HuggingFace Text Generation Inference and LiteLLM OpenAI proxy server. This enables us to use any tool compatible with OpenAI API."
   ]
  },
  {
   "cell_type": "markdown",
   "metadata": {},
   "source": [
    "We'll use 4-bit quantized Llama-2 7B chat model to lower GPU memory requirement. Launch TGI server on a device with GPU:\n",
    "\n",
    "```sh\n",
    "#!/bin/bash\n",
    "\n",
    "VOLUME=\"${HOME}/.cache/huggingface/tgi\"\n",
    "mkdir -p $VOLUME\n",
    "\n",
    "docker run --gpus all --shm-size 1g \\\n",
    "    -p 8080:80 \\\n",
    "    -v \"${VOLUME}\":/data \\\n",
    "    ghcr.io/huggingface/text-generation-inference:latest \\\n",
    "     --trust-remote-code \\\n",
    "     --model-id \"NousResearch/llama-2-7b-chat-hf\" \\\n",
    "     --quantize bitsandbytes-nf4 \\\n",
    "     --dtype float16\n",
    "```"
   ]
  },
  {
   "cell_type": "markdown",
   "metadata": {},
   "source": [
    "HuggingFace Text Generation Inference server supports only text completion. However, we want to send chat messages with system, user, and assistant roles same as OpenAI models (i.e. `ChatML` format). Fortunately, [LiteLLM supports Llama-2 chat template](https://docs.litellm.ai/docs/providers/huggingface), which will convert chat messages to text prompt before calling TGI server. All we need to do is to specify `model` paramater as `huggingface/meta-llama/Llama-2-7b`. For models not supported by LiteLLM, we can create a custom template. \n",
    "\n",
    "Here is the config for LiteLLM OpenAI proxy Server.\n",
    "\n",
    "```yaml\n",
    "# config.yaml\n",
    "model_list:\n",
    "  - model_name: llama-2-7b-chat # arbitrary alias for our mdoel\n",
    "    litellm_params: # actual params for litellm.completion()\n",
    "      model: \"huggingface/meta-llama/Llama-2-7b\"\n",
    "      api_base: \"http://localhost:8080/\"\n",
    "      max_tokens: 1024\n",
    "\n",
    "litellm_settings:\n",
    "  set_verbose: True\n",
    "```\n",
    "\n",
    "Launch LiteLLM OpenAI proxy server:\n",
    "\n",
    "```sh\n",
    "litellm --config config.yaml\n",
    "```"
   ]
  },
  {
   "cell_type": "markdown",
   "metadata": {},
   "source": [
    "Set API base url."
   ]
  },
  {
   "cell_type": "code",
   "execution_count": null,
   "metadata": {},
   "outputs": [],
   "source": [
    "API_BASE=\"http://localhost:8000/\""
   ]
  },
  {
   "cell_type": "markdown",
   "metadata": {},
   "source": [
    "Let's use the model with `completion` function provided by `litellm` library, first."
   ]
  },
  {
   "cell_type": "code",
   "execution_count": 70,
   "metadata": {},
   "outputs": [
    {
     "name": "stdout",
     "output_type": "stream",
     "text": [
      "\n",
      "Istanbul is a city with a rich history and culture, and there are many reasons to live there. Here are three:\n",
      "\n",
      "1. Cultural Diversity: Istanbul is a city that straddles two continents, Europe and Asia, and has a unique cultural identity that reflects its history as a crossroads of civilizations. The city is home to a diverse population, including Turks, Kurds, Greeks, Armenians, and other ethnic groups, each with their own traditions and customs. This diversity is reflected in the city's architecture, food, music, and art, making Istanbul a vibrant and exciting place to live.\n",
      "2. Historical Landmarks: Istanbul is home to some of the most impressive historical landmarks in the world, including the Hagia Sophia, the Blue Mosque, and the Topkapi Palace. These landmarks are not only important cultural and religious sites, but also serve as a reminder of the city's rich history and its role in the development of civilizations. Living in Istanbul, you are surrounded by these incredible structures, which are a source of inspiration and pride for the city's residents.\n",
      "3. Gastronomy: Istanbul is known for its delicious and diverse food scene, which reflects the city's cultural diversity. From traditional Turkish dishes like kebabs and baklava, to Greek and Middle Eastern cuisine, there is something for every taste and budget. Living in Istanbul, you have access to a wide range of fresh produce, spices, and other ingredients, which are used to create mouth-watering dishes that are both healthy and delicious.\n",
      "\n",
      "Overall, Istanbul is a city that offers a unique and enriching experience for those who live there. Its cultural diversity, historical landmarks, and gastronomy make it a vibrant and exciting place to call home.\n"
     ]
    }
   ],
   "source": [
    "from litellm import completion \n",
    "\n",
    "messages = [\n",
    "    {\"content\": \"You are helpful assistant.\",\"role\": \"system\"},\n",
    "    {\"content\": \"Tell me 3 reasons to live in Istanbul.\",\"role\": \"user\"},\n",
    "]\n",
    "\n",
    "response = completion(\n",
    "  api_base=API_BASE,\n",
    "  model=\"llama-2-7b-chat\", \n",
    "  custom_llm_provider=\"openai\", # so that messages are sent to proxy server as they are\n",
    "  messages=messages, \n",
    "  temperature=0.3,\n",
    ")\n",
    "\n",
    "print(response.choices[0].message.content)"
   ]
  },
  {
   "cell_type": "markdown",
   "metadata": {},
   "source": [
    "Now, let's use the model with `llama-index` library. The subtle point is that `LiteLLM` class in `llama-index` expects `custom_llm_provider` parameter in `additional_kwargs` argument."
   ]
  },
  {
   "cell_type": "code",
   "execution_count": 79,
   "metadata": {},
   "outputs": [
    {
     "name": "stdout",
     "output_type": "stream",
     "text": [
      "\n",
      "\n",
      "1. Cultural diversity: London is a melting pot of cultures, with people from all over the world calling it home. This diversity is reflected in the city's food, art, music, and fashion, making it a vibrant and exciting place to live.\n",
      "2. World-class amenities: London has some of the best amenities in the world, including top-notch restaurants, theaters, museums, and sports venues. Whether you're looking for a night out on the town or a quiet evening at home, London has something for everyone.\n",
      "3. Investment opportunities: London is a major financial hub, with many opportunities for investment in real estate, business, and other industries. The city's strong economy and stable political environment make it an attractive place to invest and grow your wealth.\n"
     ]
    }
   ],
   "source": [
    "from llama_index.llms import ChatMessage, LiteLLM\n",
    "\n",
    "llm = LiteLLM(\n",
    "    api_base=API_BASE,\n",
    "    api_key=\"\",\n",
    "    model=\"llama-2-7b-chat\", \n",
    "    temperature=0.3,\n",
    "    additional_kwargs=dict(\n",
    "        custom_llm_provider=\"openai\", # so that messages are sent to proxy server as they are\n",
    "    ),\n",
    ")\n",
    "\n",
    "messages = [\n",
    "    ChatMessage.parse_obj({\"content\": \"You are helpful assistant.\", \"role\": \"system\"}),\n",
    "    ChatMessage.parse_obj({\"content\": \"Tell me 3 reasons to live in London.\", \"role\": \"user\"}),\n",
    "]\n",
    "response = llm.chat(messages) \n",
    "print(response.message.content)"
   ]
  },
  {
   "cell_type": "code",
   "execution_count": 78,
   "metadata": {},
   "outputs": [
    {
     "name": "stdout",
     "output_type": "stream",
     "text": [
      "\n",
      "\n",
      "I'm glad you think I'm hilarious! Here's a joke for you:\n",
      "\n",
      "Why did the front-end developer break up with his girlfriend?\n",
      "\n",
      "Because he wanted a more responsive relationship! 😂\n",
      "\n",
      "I hope you found that one amusing! Front-end developers can be a funny topic, but I'm sure they won't mind a good-natured jab or two. Let me know if you want another one!\n"
     ]
    }
   ],
   "source": [
    "messages = [\n",
    "    ChatMessage(content=\"You are an hilarious comedian who is famous with their sarcastic jokes.\", role=\"system\"),\n",
    "    ChatMessage(content=\"Tell me a joke about front-end developers.\", role=\"user\"),\n",
    "]\n",
    "response = llm.chat(messages) \n",
    "print(response.message.content)"
   ]
  }
 ],
 "metadata": {
  "kernelspec": {
   "display_name": "Python 3 (ipykernel)",
   "language": "python",
   "name": "python3"
  },
  "language_info": {
   "codemirror_mode": {
    "name": "ipython",
    "version": 3
   },
   "file_extension": ".py",
   "mimetype": "text/x-python",
   "name": "python",
   "nbconvert_exporter": "python",
   "pygments_lexer": "ipython3",
   "version": "3.10.12"
  },
  "orig_nbformat": 4
 },
 "nbformat": 4,
 "nbformat_minor": 2
}
